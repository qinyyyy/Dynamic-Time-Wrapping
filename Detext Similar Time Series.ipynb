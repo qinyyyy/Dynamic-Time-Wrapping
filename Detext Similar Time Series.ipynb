{
 "cells": [
  {
   "cell_type": "markdown",
   "metadata": {},
   "source": [
    "# ALM_R&S_Quantitative Assignment \n",
    "### Qinyan Wu"
   ]
  },
  {
   "cell_type": "code",
   "execution_count": 1,
   "metadata": {},
   "outputs": [],
   "source": [
    "import pandas as pd\n",
    "import numpy as np\n",
    "from sklearn.decomposition import PCA\n",
    "from sklearn.preprocessing import scale\n",
    "import matplotlib.pyplot as plt\n",
    "import seaborn as sns\n",
    "from statsmodels.tsa.stattools import adfuller\n",
    "from scipy.spatial import distance\n",
    "import statsmodels.tsa.stattools as stattools\n",
    "import datetime\n"
   ]
  },
  {
   "cell_type": "markdown",
   "metadata": {},
   "source": [
    "## Step 1: Query and retrieve data series"
   ]
  },
  {
   "cell_type": "markdown",
   "metadata": {},
   "source": [
    "#####  Store data series in a DataFrame"
   ]
  },
  {
   "cell_type": "code",
   "execution_count": 2,
   "metadata": {},
   "outputs": [
    {
     "data": {
      "text/html": [
       "<div>\n",
       "<style scoped>\n",
       "    .dataframe tbody tr th:only-of-type {\n",
       "        vertical-align: middle;\n",
       "    }\n",
       "\n",
       "    .dataframe tbody tr th {\n",
       "        vertical-align: top;\n",
       "    }\n",
       "\n",
       "    .dataframe thead th {\n",
       "        text-align: right;\n",
       "    }\n",
       "</style>\n",
       "<table border=\"1\" class=\"dataframe\">\n",
       "  <thead>\n",
       "    <tr style=\"text-align: right;\">\n",
       "      <th></th>\n",
       "      <th>GS1</th>\n",
       "      <th>GS2</th>\n",
       "      <th>GS3</th>\n",
       "      <th>GS5</th>\n",
       "      <th>GS7</th>\n",
       "      <th>GS10</th>\n",
       "    </tr>\n",
       "  </thead>\n",
       "  <tbody>\n",
       "    <tr>\n",
       "      <th>1953-04-01</th>\n",
       "      <td>2.36</td>\n",
       "      <td>NaN</td>\n",
       "      <td>2.51</td>\n",
       "      <td>2.62</td>\n",
       "      <td>NaN</td>\n",
       "      <td>2.83</td>\n",
       "    </tr>\n",
       "    <tr>\n",
       "      <th>1953-05-01</th>\n",
       "      <td>2.48</td>\n",
       "      <td>NaN</td>\n",
       "      <td>2.72</td>\n",
       "      <td>2.87</td>\n",
       "      <td>NaN</td>\n",
       "      <td>3.05</td>\n",
       "    </tr>\n",
       "    <tr>\n",
       "      <th>1953-06-01</th>\n",
       "      <td>2.45</td>\n",
       "      <td>NaN</td>\n",
       "      <td>2.74</td>\n",
       "      <td>2.94</td>\n",
       "      <td>NaN</td>\n",
       "      <td>3.11</td>\n",
       "    </tr>\n",
       "    <tr>\n",
       "      <th>1953-07-01</th>\n",
       "      <td>2.38</td>\n",
       "      <td>NaN</td>\n",
       "      <td>2.62</td>\n",
       "      <td>2.75</td>\n",
       "      <td>NaN</td>\n",
       "      <td>2.93</td>\n",
       "    </tr>\n",
       "    <tr>\n",
       "      <th>1953-08-01</th>\n",
       "      <td>2.28</td>\n",
       "      <td>NaN</td>\n",
       "      <td>2.58</td>\n",
       "      <td>2.80</td>\n",
       "      <td>NaN</td>\n",
       "      <td>2.95</td>\n",
       "    </tr>\n",
       "  </tbody>\n",
       "</table>\n",
       "</div>"
      ],
      "text/plain": [
       "             GS1  GS2   GS3   GS5  GS7  GS10\n",
       "1953-04-01  2.36  NaN  2.51  2.62  NaN  2.83\n",
       "1953-05-01  2.48  NaN  2.72  2.87  NaN  3.05\n",
       "1953-06-01  2.45  NaN  2.74  2.94  NaN  3.11\n",
       "1953-07-01  2.38  NaN  2.62  2.75  NaN  2.93\n",
       "1953-08-01  2.28  NaN  2.58  2.80  NaN  2.95"
      ]
     },
     "execution_count": 2,
     "metadata": {},
     "output_type": "execute_result"
    }
   ],
   "source": [
    "from fredapi import Fred\n",
    "fred = Fred(api_key='afb7a033c2ee392aad3ddda3f3c70362')\n",
    "tags=['GS1','GS2','GS3','GS5','GS7','GS10']\n",
    "adict={}\n",
    "for tag in tags:\n",
    "\n",
    "    key=tag\n",
    "    series=fred.get_series(tag)\n",
    "    adict[key]=series\n",
    "data=pd.DataFrame(adict)\n",
    "data.head()"
   ]
  },
  {
   "cell_type": "markdown",
   "metadata": {},
   "source": [
    "#####  Handle missing values "
   ]
  },
  {
   "cell_type": "code",
   "execution_count": 3,
   "metadata": {},
   "outputs": [
    {
     "data": {
      "text/html": [
       "<div>\n",
       "<style scoped>\n",
       "    .dataframe tbody tr th:only-of-type {\n",
       "        vertical-align: middle;\n",
       "    }\n",
       "\n",
       "    .dataframe tbody tr th {\n",
       "        vertical-align: top;\n",
       "    }\n",
       "\n",
       "    .dataframe thead th {\n",
       "        text-align: right;\n",
       "    }\n",
       "</style>\n",
       "<table border=\"1\" class=\"dataframe\">\n",
       "  <thead>\n",
       "    <tr style=\"text-align: right;\">\n",
       "      <th></th>\n",
       "      <th>GS1</th>\n",
       "      <th>GS2</th>\n",
       "      <th>GS3</th>\n",
       "      <th>GS5</th>\n",
       "      <th>GS7</th>\n",
       "      <th>GS10</th>\n",
       "    </tr>\n",
       "  </thead>\n",
       "  <tbody>\n",
       "    <tr>\n",
       "      <th>count</th>\n",
       "      <td>823.000000</td>\n",
       "      <td>545.000000</td>\n",
       "      <td>823.000000</td>\n",
       "      <td>823.000000</td>\n",
       "      <td>628.000000</td>\n",
       "      <td>823.000000</td>\n",
       "    </tr>\n",
       "    <tr>\n",
       "      <th>mean</th>\n",
       "      <td>4.676063</td>\n",
       "      <td>5.078587</td>\n",
       "      <td>5.080814</td>\n",
       "      <td>5.329392</td>\n",
       "      <td>5.990478</td>\n",
       "      <td>5.640863</td>\n",
       "    </tr>\n",
       "    <tr>\n",
       "      <th>std</th>\n",
       "      <td>3.321627</td>\n",
       "      <td>3.811277</td>\n",
       "      <td>3.213891</td>\n",
       "      <td>3.097340</td>\n",
       "      <td>3.257417</td>\n",
       "      <td>2.921757</td>\n",
       "    </tr>\n",
       "    <tr>\n",
       "      <th>min</th>\n",
       "      <td>0.050000</td>\n",
       "      <td>0.120000</td>\n",
       "      <td>0.160000</td>\n",
       "      <td>0.270000</td>\n",
       "      <td>0.460000</td>\n",
       "      <td>0.620000</td>\n",
       "    </tr>\n",
       "    <tr>\n",
       "      <th>25%</th>\n",
       "      <td>2.180000</td>\n",
       "      <td>1.580000</td>\n",
       "      <td>2.600000</td>\n",
       "      <td>2.930000</td>\n",
       "      <td>3.205000</td>\n",
       "      <td>3.550000</td>\n",
       "    </tr>\n",
       "    <tr>\n",
       "      <th>50%</th>\n",
       "      <td>4.470000</td>\n",
       "      <td>4.960000</td>\n",
       "      <td>4.740000</td>\n",
       "      <td>4.910000</td>\n",
       "      <td>6.150000</td>\n",
       "      <td>5.090000</td>\n",
       "    </tr>\n",
       "    <tr>\n",
       "      <th>75%</th>\n",
       "      <td>6.415000</td>\n",
       "      <td>7.570000</td>\n",
       "      <td>6.975000</td>\n",
       "      <td>7.175000</td>\n",
       "      <td>7.920000</td>\n",
       "      <td>7.425000</td>\n",
       "    </tr>\n",
       "    <tr>\n",
       "      <th>max</th>\n",
       "      <td>16.720000</td>\n",
       "      <td>16.460000</td>\n",
       "      <td>16.220000</td>\n",
       "      <td>15.930000</td>\n",
       "      <td>15.650000</td>\n",
       "      <td>15.320000</td>\n",
       "    </tr>\n",
       "  </tbody>\n",
       "</table>\n",
       "</div>"
      ],
      "text/plain": [
       "              GS1         GS2         GS3         GS5         GS7        GS10\n",
       "count  823.000000  545.000000  823.000000  823.000000  628.000000  823.000000\n",
       "mean     4.676063    5.078587    5.080814    5.329392    5.990478    5.640863\n",
       "std      3.321627    3.811277    3.213891    3.097340    3.257417    2.921757\n",
       "min      0.050000    0.120000    0.160000    0.270000    0.460000    0.620000\n",
       "25%      2.180000    1.580000    2.600000    2.930000    3.205000    3.550000\n",
       "50%      4.470000    4.960000    4.740000    4.910000    6.150000    5.090000\n",
       "75%      6.415000    7.570000    6.975000    7.175000    7.920000    7.425000\n",
       "max     16.720000   16.460000   16.220000   15.930000   15.650000   15.320000"
      ]
     },
     "execution_count": 3,
     "metadata": {},
     "output_type": "execute_result"
    }
   ],
   "source": [
    "data.describe()"
   ]
  },
  {
   "cell_type": "code",
   "execution_count": 30,
   "metadata": {},
   "outputs": [
    {
     "data": {
      "text/html": [
       "<div>\n",
       "<style scoped>\n",
       "    .dataframe tbody tr th:only-of-type {\n",
       "        vertical-align: middle;\n",
       "    }\n",
       "\n",
       "    .dataframe tbody tr th {\n",
       "        vertical-align: top;\n",
       "    }\n",
       "\n",
       "    .dataframe thead th {\n",
       "        text-align: right;\n",
       "    }\n",
       "</style>\n",
       "<table border=\"1\" class=\"dataframe\">\n",
       "  <thead>\n",
       "    <tr style=\"text-align: right;\">\n",
       "      <th></th>\n",
       "      <th>GS1</th>\n",
       "      <th>GS2</th>\n",
       "      <th>GS3</th>\n",
       "      <th>GS5</th>\n",
       "      <th>GS7</th>\n",
       "      <th>GS10</th>\n",
       "    </tr>\n",
       "  </thead>\n",
       "  <tbody>\n",
       "    <tr>\n",
       "      <th>1976-06-01</th>\n",
       "      <td>6.52</td>\n",
       "      <td>7.06</td>\n",
       "      <td>7.31</td>\n",
       "      <td>7.61</td>\n",
       "      <td>7.75</td>\n",
       "      <td>7.86</td>\n",
       "    </tr>\n",
       "    <tr>\n",
       "      <th>1976-07-01</th>\n",
       "      <td>6.20</td>\n",
       "      <td>6.85</td>\n",
       "      <td>7.12</td>\n",
       "      <td>7.49</td>\n",
       "      <td>7.70</td>\n",
       "      <td>7.83</td>\n",
       "    </tr>\n",
       "    <tr>\n",
       "      <th>1976-08-01</th>\n",
       "      <td>6.00</td>\n",
       "      <td>6.63</td>\n",
       "      <td>6.86</td>\n",
       "      <td>7.31</td>\n",
       "      <td>7.58</td>\n",
       "      <td>7.77</td>\n",
       "    </tr>\n",
       "    <tr>\n",
       "      <th>1976-09-01</th>\n",
       "      <td>5.84</td>\n",
       "      <td>6.42</td>\n",
       "      <td>6.66</td>\n",
       "      <td>7.13</td>\n",
       "      <td>7.41</td>\n",
       "      <td>7.59</td>\n",
       "    </tr>\n",
       "    <tr>\n",
       "      <th>1976-10-01</th>\n",
       "      <td>5.50</td>\n",
       "      <td>5.98</td>\n",
       "      <td>6.24</td>\n",
       "      <td>6.75</td>\n",
       "      <td>7.16</td>\n",
       "      <td>7.41</td>\n",
       "    </tr>\n",
       "  </tbody>\n",
       "</table>\n",
       "</div>"
      ],
      "text/plain": [
       "             GS1   GS2   GS3   GS5   GS7  GS10\n",
       "1976-06-01  6.52  7.06  7.31  7.61  7.75  7.86\n",
       "1976-07-01  6.20  6.85  7.12  7.49  7.70  7.83\n",
       "1976-08-01  6.00  6.63  6.86  7.31  7.58  7.77\n",
       "1976-09-01  5.84  6.42  6.66  7.13  7.41  7.59\n",
       "1976-10-01  5.50  5.98  6.24  6.75  7.16  7.41"
      ]
     },
     "execution_count": 30,
     "metadata": {},
     "output_type": "execute_result"
    }
   ],
   "source": [
    "data.dropna(inplace=True)\n",
    "data.head()"
   ]
  },
  {
   "cell_type": "markdown",
   "metadata": {},
   "source": [
    "## Step 2: Reduce Dimensions by PCA"
   ]
  },
  {
   "cell_type": "markdown",
   "metadata": {},
   "source": [
    "#### Create new data for  monthly changes"
   ]
  },
  {
   "cell_type": "code",
   "execution_count": 5,
   "metadata": {},
   "outputs": [
    {
     "data": {
      "text/html": [
       "<div>\n",
       "<style scoped>\n",
       "    .dataframe tbody tr th:only-of-type {\n",
       "        vertical-align: middle;\n",
       "    }\n",
       "\n",
       "    .dataframe tbody tr th {\n",
       "        vertical-align: top;\n",
       "    }\n",
       "\n",
       "    .dataframe thead th {\n",
       "        text-align: right;\n",
       "    }\n",
       "</style>\n",
       "<table border=\"1\" class=\"dataframe\">\n",
       "  <thead>\n",
       "    <tr style=\"text-align: right;\">\n",
       "      <th></th>\n",
       "      <th>GS1</th>\n",
       "      <th>GS2</th>\n",
       "      <th>GS3</th>\n",
       "      <th>GS5</th>\n",
       "      <th>GS7</th>\n",
       "      <th>GS10</th>\n",
       "    </tr>\n",
       "  </thead>\n",
       "  <tbody>\n",
       "    <tr>\n",
       "      <th>1976-06-01</th>\n",
       "      <td>-0.32</td>\n",
       "      <td>-0.21</td>\n",
       "      <td>-0.19</td>\n",
       "      <td>-0.12</td>\n",
       "      <td>-0.05</td>\n",
       "      <td>-0.03</td>\n",
       "    </tr>\n",
       "    <tr>\n",
       "      <th>1976-07-01</th>\n",
       "      <td>-0.20</td>\n",
       "      <td>-0.22</td>\n",
       "      <td>-0.26</td>\n",
       "      <td>-0.18</td>\n",
       "      <td>-0.12</td>\n",
       "      <td>-0.06</td>\n",
       "    </tr>\n",
       "    <tr>\n",
       "      <th>1976-08-01</th>\n",
       "      <td>-0.16</td>\n",
       "      <td>-0.21</td>\n",
       "      <td>-0.20</td>\n",
       "      <td>-0.18</td>\n",
       "      <td>-0.17</td>\n",
       "      <td>-0.18</td>\n",
       "    </tr>\n",
       "    <tr>\n",
       "      <th>1976-09-01</th>\n",
       "      <td>-0.34</td>\n",
       "      <td>-0.44</td>\n",
       "      <td>-0.42</td>\n",
       "      <td>-0.38</td>\n",
       "      <td>-0.25</td>\n",
       "      <td>-0.18</td>\n",
       "    </tr>\n",
       "    <tr>\n",
       "      <th>1976-10-01</th>\n",
       "      <td>-0.21</td>\n",
       "      <td>-0.17</td>\n",
       "      <td>-0.15</td>\n",
       "      <td>-0.23</td>\n",
       "      <td>-0.30</td>\n",
       "      <td>-0.12</td>\n",
       "    </tr>\n",
       "  </tbody>\n",
       "</table>\n",
       "</div>"
      ],
      "text/plain": [
       "             GS1   GS2   GS3   GS5   GS7  GS10\n",
       "1976-06-01 -0.32 -0.21 -0.19 -0.12 -0.05 -0.03\n",
       "1976-07-01 -0.20 -0.22 -0.26 -0.18 -0.12 -0.06\n",
       "1976-08-01 -0.16 -0.21 -0.20 -0.18 -0.17 -0.18\n",
       "1976-09-01 -0.34 -0.44 -0.42 -0.38 -0.25 -0.18\n",
       "1976-10-01 -0.21 -0.17 -0.15 -0.23 -0.30 -0.12"
      ]
     },
     "execution_count": 5,
     "metadata": {},
     "output_type": "execute_result"
    }
   ],
   "source": [
    "monthly_change=data.shift(-1)-data\n",
    "monthly_change.dropna(inplace=True)\n",
    "monthly_change.head()"
   ]
  },
  {
   "cell_type": "markdown",
   "metadata": {},
   "source": [
    "### PCA analysis"
   ]
  },
  {
   "cell_type": "markdown",
   "metadata": {},
   "source": [
    "##### Standardize data"
   ]
  },
  {
   "cell_type": "code",
   "execution_count": 6,
   "metadata": {},
   "outputs": [
    {
     "data": {
      "text/html": [
       "<div>\n",
       "<style scoped>\n",
       "    .dataframe tbody tr th:only-of-type {\n",
       "        vertical-align: middle;\n",
       "    }\n",
       "\n",
       "    .dataframe tbody tr th {\n",
       "        vertical-align: top;\n",
       "    }\n",
       "\n",
       "    .dataframe thead th {\n",
       "        text-align: right;\n",
       "    }\n",
       "</style>\n",
       "<table border=\"1\" class=\"dataframe\">\n",
       "  <thead>\n",
       "    <tr style=\"text-align: right;\">\n",
       "      <th></th>\n",
       "      <th>GS1</th>\n",
       "      <th>GS2</th>\n",
       "      <th>GS3</th>\n",
       "      <th>GS5</th>\n",
       "      <th>GS7</th>\n",
       "      <th>GS10</th>\n",
       "    </tr>\n",
       "  </thead>\n",
       "  <tbody>\n",
       "    <tr>\n",
       "      <th>1976-06-01</th>\n",
       "      <td>-0.711055</td>\n",
       "      <td>-0.499901</td>\n",
       "      <td>-0.477856</td>\n",
       "      <td>-0.316034</td>\n",
       "      <td>-0.119308</td>\n",
       "      <td>-0.061234</td>\n",
       "    </tr>\n",
       "    <tr>\n",
       "      <th>1976-07-01</th>\n",
       "      <td>-0.434216</td>\n",
       "      <td>-0.525182</td>\n",
       "      <td>-0.665994</td>\n",
       "      <td>-0.491525</td>\n",
       "      <td>-0.337209</td>\n",
       "      <td>-0.160770</td>\n",
       "    </tr>\n",
       "    <tr>\n",
       "      <th>1976-08-01</th>\n",
       "      <td>-0.341936</td>\n",
       "      <td>-0.499901</td>\n",
       "      <td>-0.504733</td>\n",
       "      <td>-0.491525</td>\n",
       "      <td>-0.492853</td>\n",
       "      <td>-0.558912</td>\n",
       "    </tr>\n",
       "    <tr>\n",
       "      <th>1976-09-01</th>\n",
       "      <td>-0.757195</td>\n",
       "      <td>-1.081360</td>\n",
       "      <td>-1.096025</td>\n",
       "      <td>-1.076494</td>\n",
       "      <td>-0.741883</td>\n",
       "      <td>-0.558912</td>\n",
       "    </tr>\n",
       "    <tr>\n",
       "      <th>1976-10-01</th>\n",
       "      <td>-0.457286</td>\n",
       "      <td>-0.398777</td>\n",
       "      <td>-0.370348</td>\n",
       "      <td>-0.637767</td>\n",
       "      <td>-0.897527</td>\n",
       "      <td>-0.359841</td>\n",
       "    </tr>\n",
       "  </tbody>\n",
       "</table>\n",
       "</div>"
      ],
      "text/plain": [
       "                 GS1       GS2       GS3       GS5       GS7      GS10\n",
       "1976-06-01 -0.711055 -0.499901 -0.477856 -0.316034 -0.119308 -0.061234\n",
       "1976-07-01 -0.434216 -0.525182 -0.665994 -0.491525 -0.337209 -0.160770\n",
       "1976-08-01 -0.341936 -0.499901 -0.504733 -0.491525 -0.492853 -0.558912\n",
       "1976-09-01 -0.757195 -1.081360 -1.096025 -1.076494 -0.741883 -0.558912\n",
       "1976-10-01 -0.457286 -0.398777 -0.370348 -0.637767 -0.897527 -0.359841"
      ]
     },
     "execution_count": 6,
     "metadata": {},
     "output_type": "execute_result"
    }
   ],
   "source": [
    "standard= scale(monthly_change)\n",
    "monthly_change= pd.DataFrame(standard, index=monthly_change.index, columns=monthly_change.columns)\n",
    "monthly_change.head()"
   ]
  },
  {
   "cell_type": "markdown",
   "metadata": {},
   "source": [
    "##### Implement PCA"
   ]
  },
  {
   "cell_type": "code",
   "execution_count": 7,
   "metadata": {},
   "outputs": [],
   "source": [
    "pca=PCA().fit(monthly_change)"
   ]
  },
  {
   "cell_type": "code",
   "execution_count": 8,
   "metadata": {},
   "outputs": [],
   "source": [
    "def pca_summary(pca, standardised_data, out=True):\n",
    "     names = [\"PC\"+str(i) for i in range(1, len(pca.explained_variance_ratio_)+1)]\n",
    "     a = list(np.std(pca.transform(standardised_data), axis=0))\n",
    "     b = list(pca.explained_variance_ratio_)\n",
    "     c = [np.sum(pca.explained_variance_ratio_[:i]) for i in range(1, \n",
    "     len(pca.explained_variance_ratio_)+1)]\n",
    "     columns = pd.MultiIndex.from_tuples([(\"sdev\", \"Standard deviation\"), (\"varprop\", \n",
    "    \"Proportion of Variance\"), (\"cumprop\", \"Cumulative Proportion\")])\n",
    "     summary = pd.DataFrame(zip(a, b, c), index=names, columns=columns)\n",
    "     if out:\n",
    "         print(\"Importance of components:\")\n",
    "         display(summary)\n",
    "     return summary"
   ]
  },
  {
   "cell_type": "code",
   "execution_count": 9,
   "metadata": {},
   "outputs": [
    {
     "name": "stdout",
     "output_type": "stream",
     "text": [
      "Importance of components:\n"
     ]
    },
    {
     "data": {
      "text/html": [
       "<div>\n",
       "<style scoped>\n",
       "    .dataframe tbody tr th:only-of-type {\n",
       "        vertical-align: middle;\n",
       "    }\n",
       "\n",
       "    .dataframe tbody tr th {\n",
       "        vertical-align: top;\n",
       "    }\n",
       "\n",
       "    .dataframe thead tr th {\n",
       "        text-align: left;\n",
       "    }\n",
       "</style>\n",
       "<table border=\"1\" class=\"dataframe\">\n",
       "  <thead>\n",
       "    <tr>\n",
       "      <th></th>\n",
       "      <th>sdev</th>\n",
       "      <th>varprop</th>\n",
       "      <th>cumprop</th>\n",
       "    </tr>\n",
       "    <tr>\n",
       "      <th></th>\n",
       "      <th>Standard deviation</th>\n",
       "      <th>Proportion of Variance</th>\n",
       "      <th>Cumulative Proportion</th>\n",
       "    </tr>\n",
       "  </thead>\n",
       "  <tbody>\n",
       "    <tr>\n",
       "      <th>PC1</th>\n",
       "      <td>2.372321</td>\n",
       "      <td>0.937984</td>\n",
       "      <td>0.937984</td>\n",
       "    </tr>\n",
       "    <tr>\n",
       "      <th>PC2</th>\n",
       "      <td>0.567345</td>\n",
       "      <td>0.053647</td>\n",
       "      <td>0.991631</td>\n",
       "    </tr>\n",
       "    <tr>\n",
       "      <th>PC3</th>\n",
       "      <td>0.181554</td>\n",
       "      <td>0.005494</td>\n",
       "      <td>0.997125</td>\n",
       "    </tr>\n",
       "    <tr>\n",
       "      <th>PC4</th>\n",
       "      <td>0.098589</td>\n",
       "      <td>0.001620</td>\n",
       "      <td>0.998745</td>\n",
       "    </tr>\n",
       "    <tr>\n",
       "      <th>PC5</th>\n",
       "      <td>0.064859</td>\n",
       "      <td>0.000701</td>\n",
       "      <td>0.999446</td>\n",
       "    </tr>\n",
       "    <tr>\n",
       "      <th>PC6</th>\n",
       "      <td>0.057673</td>\n",
       "      <td>0.000554</td>\n",
       "      <td>1.000000</td>\n",
       "    </tr>\n",
       "  </tbody>\n",
       "</table>\n",
       "</div>"
      ],
      "text/plain": [
       "                  sdev                varprop               cumprop\n",
       "    Standard deviation Proportion of Variance Cumulative Proportion\n",
       "PC1           2.372321               0.937984              0.937984\n",
       "PC2           0.567345               0.053647              0.991631\n",
       "PC3           0.181554               0.005494              0.997125\n",
       "PC4           0.098589               0.001620              0.998745\n",
       "PC5           0.064859               0.000701              0.999446\n",
       "PC6           0.057673               0.000554              1.000000"
      ]
     },
     "metadata": {},
     "output_type": "display_data"
    }
   ],
   "source": [
    "summary = pca_summary(pca, monthly_change)"
   ]
  },
  {
   "cell_type": "markdown",
   "metadata": {},
   "source": [
    "##### Cumulative propotion of  Variance and Proportion of Variance "
   ]
  },
  {
   "cell_type": "code",
   "execution_count": 10,
   "metadata": {},
   "outputs": [
    {
     "data": {
      "image/png": "[encoded data removed]",
      "text/plain": [
       "<Figure size 432x288 with 1 Axes>"
      ]
     },
     "metadata": {
      "needs_background": "light"
     },
     "output_type": "display_data"
    }
   ],
   "source": [
    "x1=summary.index\n",
    "y=summary['cumprop'].values.reshape(-1)\n",
    "plt.bar(x1, y)\n",
    "plt.title(\"Cumulative Proportion of Variance\")\n",
    "for xx, yy in zip(x1,y):\n",
    "    plt.text(xx, yy+0.01, str(round(yy,3)), ha='center')\n",
    "plt.show()"
   ]
  },
  {
   "cell_type": "code",
   "execution_count": 11,
   "metadata": {},
   "outputs": [
    {
     "data": {
      "image/png": "[encoded data removed]",
      "text/plain": [
       "<Figure size 432x288 with 1 Axes>"
      ]
     },
     "metadata": {
      "needs_background": "light"
     },
     "output_type": "display_data"
    }
   ],
   "source": [
    "x=summary.index\n",
    "y=summary['varprop'].values.reshape(-1)\n",
    "plt.bar(x, y)\n",
    "plt.title(\"Proportion of Variance\")\n",
    "for xx, yy in zip(x,y):\n",
    "    plt.text(xx, yy+0.01, str(round(yy,3)), ha='center')\n",
    "plt.show()"
   ]
  },
  {
   "cell_type": "markdown",
   "metadata": {},
   "source": [
    "##### Reduce the dimension to three"
   ]
  },
  {
   "cell_type": "code",
   "execution_count": 12,
   "metadata": {
    "scrolled": false
   },
   "outputs": [
    {
     "data": {
      "text/html": [
       "<div>\n",
       "<style scoped>\n",
       "    .dataframe tbody tr th:only-of-type {\n",
       "        vertical-align: middle;\n",
       "    }\n",
       "\n",
       "    .dataframe tbody tr th {\n",
       "        vertical-align: top;\n",
       "    }\n",
       "\n",
       "    .dataframe thead th {\n",
       "        text-align: right;\n",
       "    }\n",
       "</style>\n",
       "<table border=\"1\" class=\"dataframe\">\n",
       "  <thead>\n",
       "    <tr style=\"text-align: right;\">\n",
       "      <th></th>\n",
       "      <th>PC1</th>\n",
       "      <th>PC2</th>\n",
       "      <th>PC3</th>\n",
       "    </tr>\n",
       "  </thead>\n",
       "  <tbody>\n",
       "    <tr>\n",
       "      <th>1976-06-01</th>\n",
       "      <td>0.888255</td>\n",
       "      <td>0.551753</td>\n",
       "      <td>-0.026462</td>\n",
       "    </tr>\n",
       "    <tr>\n",
       "      <th>1976-07-01</th>\n",
       "      <td>1.072054</td>\n",
       "      <td>0.234299</td>\n",
       "      <td>-0.277551</td>\n",
       "    </tr>\n",
       "    <tr>\n",
       "      <th>1976-08-01</th>\n",
       "      <td>1.181941</td>\n",
       "      <td>-0.116526</td>\n",
       "      <td>-0.033573</td>\n",
       "    </tr>\n",
       "    <tr>\n",
       "      <th>1976-09-01</th>\n",
       "      <td>2.176907</td>\n",
       "      <td>0.213209</td>\n",
       "      <td>-0.411894</td>\n",
       "    </tr>\n",
       "    <tr>\n",
       "      <th>1976-10-01</th>\n",
       "      <td>1.276016</td>\n",
       "      <td>-0.181139</td>\n",
       "      <td>0.011477</td>\n",
       "    </tr>\n",
       "    <tr>\n",
       "      <th>...</th>\n",
       "      <td>...</td>\n",
       "      <td>...</td>\n",
       "      <td>...</td>\n",
       "    </tr>\n",
       "    <tr>\n",
       "      <th>2021-05-01</th>\n",
       "      <td>-0.047663</td>\n",
       "      <td>-0.297289</td>\n",
       "      <td>0.287381</td>\n",
       "    </tr>\n",
       "    <tr>\n",
       "      <th>2021-06-01</th>\n",
       "      <td>0.445259</td>\n",
       "      <td>-0.604298</td>\n",
       "      <td>0.302898</td>\n",
       "    </tr>\n",
       "    <tr>\n",
       "      <th>2021-07-01</th>\n",
       "      <td>-0.041594</td>\n",
       "      <td>-0.057176</td>\n",
       "      <td>0.116003</td>\n",
       "    </tr>\n",
       "    <tr>\n",
       "      <th>2021-08-01</th>\n",
       "      <td>-0.525342</td>\n",
       "      <td>0.283810</td>\n",
       "      <td>-0.021088</td>\n",
       "    </tr>\n",
       "    <tr>\n",
       "      <th>2021-09-01</th>\n",
       "      <td>-1.381230</td>\n",
       "      <td>0.554945</td>\n",
       "      <td>0.161070</td>\n",
       "    </tr>\n",
       "  </tbody>\n",
       "</table>\n",
       "<p>544 rows × 3 columns</p>\n",
       "</div>"
      ],
      "text/plain": [
       "                 PC1       PC2       PC3\n",
       "1976-06-01  0.888255  0.551753 -0.026462\n",
       "1976-07-01  1.072054  0.234299 -0.277551\n",
       "1976-08-01  1.181941 -0.116526 -0.033573\n",
       "1976-09-01  2.176907  0.213209 -0.411894\n",
       "1976-10-01  1.276016 -0.181139  0.011477\n",
       "...              ...       ...       ...\n",
       "2021-05-01 -0.047663 -0.297289  0.287381\n",
       "2021-06-01  0.445259 -0.604298  0.302898\n",
       "2021-07-01 -0.041594 -0.057176  0.116003\n",
       "2021-08-01 -0.525342  0.283810 -0.021088\n",
       "2021-09-01 -1.381230  0.554945  0.161070\n",
       "\n",
       "[544 rows x 3 columns]"
      ]
     },
     "execution_count": 12,
     "metadata": {},
     "output_type": "execute_result"
    }
   ],
   "source": [
    "PCA_dict={}\n",
    "for i in range(3):\n",
    "    PCA_dict['PC'+str(i+1)]=pca.transform(monthly_change)[:,i]\n",
    "PCA_data=pd.DataFrame(PCA_dict,index=monthly_change.index)\n",
    "PCA_data"
   ]
  },
  {
   "cell_type": "markdown",
   "metadata": {},
   "source": [
    "### Test the stationarity of data after PCA"
   ]
  },
  {
   "cell_type": "markdown",
   "metadata": {},
   "source": [
    "#####   Time series plotting"
   ]
  },
  {
   "cell_type": "code",
   "execution_count": 13,
   "metadata": {},
   "outputs": [
    {
     "data": {
      "image/png": "[encoded data removed]",
      "text/plain": [
       "<Figure size 864x288 with 1 Axes>"
      ]
     },
     "metadata": {
      "needs_background": "light"
     },
     "output_type": "display_data"
    }
   ],
   "source": [
    "plt.figure(figsize=(12,4))\n",
    "for i in PCA_data.columns:\n",
    "    plt.plot(PCA_data[i],label=i)\n",
    "plt.legend()\n",
    "plt.xlabel(\"year\")\n",
    "plt.ylabel(\"value\")\n",
    "plt.title(\"Data afte PCA\")\n",
    "plt.show()"
   ]
  },
  {
   "cell_type": "markdown",
   "metadata": {},
   "source": [
    "##### Autocorrelation  and Partial Autocorrelation "
   ]
  },
  {
   "cell_type": "code",
   "execution_count": 14,
   "metadata": {},
   "outputs": [
    {
     "data": {
      "image/png": "[encoded data removed]",
      "text/plain": [
       "<Figure size 432x288 with 1 Axes>"
      ]
     },
     "metadata": {
      "needs_background": "light"
     },
     "output_type": "display_data"
    },
    {
     "data": {
      "image/png": "[encoded data removed]",
      "text/plain": [
       "<Figure size 432x288 with 1 Axes>"
      ]
     },
     "metadata": {
      "needs_background": "light"
     },
     "output_type": "display_data"
    },
    {
     "data": {
      "image/png": "[encoded data removed]",
      "text/plain": [
       "<Figure size 432x288 with 1 Axes>"
      ]
     },
     "metadata": {
      "needs_background": "light"
     },
     "output_type": "display_data"
    }
   ],
   "source": [
    "for i in PCA_data.columns:\n",
    "    plt.title(\"Autocorrelation graph of \"+i)\n",
    "    plt.stem(stattools.acf(PCA_data[i],fft=False),use_line_collection=True)\n",
    "    plt.show()"
   ]
  },
  {
   "cell_type": "code",
   "execution_count": 15,
   "metadata": {},
   "outputs": [
    {
     "data": {
      "image/png": "[encoded data removed]",
      "text/plain": [
       "<Figure size 432x288 with 1 Axes>"
      ]
     },
     "metadata": {
      "needs_background": "light"
     },
     "output_type": "display_data"
    },
    {
     "data": {
      "image/png": "[encoded data removed]",
      "text/plain": [
       "<Figure size 432x288 with 1 Axes>"
      ]
     },
     "metadata": {
      "needs_background": "light"
     },
     "output_type": "display_data"
    },
    {
     "data": {
      "image/png": "[encoded data removed]",
      "text/plain": [
       "<Figure size 432x288 with 1 Axes>"
      ]
     },
     "metadata": {
      "needs_background": "light"
     },
     "output_type": "display_data"
    }
   ],
   "source": [
    "for i in PCA_data.columns:\n",
    "    plt.title(\"Partial Autocorrelation graph of \"+i)\n",
    "    plt.stem(stattools.pacf(PCA_data[i]),use_line_collection=True)\n",
    "    plt.show()"
   ]
  },
  {
   "cell_type": "markdown",
   "metadata": {},
   "source": [
    "##### Augmented Dickey-Fuller test"
   ]
  },
  {
   "cell_type": "code",
   "execution_count": 16,
   "metadata": {},
   "outputs": [],
   "source": [
    "def ADF_test(data):\n",
    "    print(\"Augmented Dickey-Fuller test:\")\n",
    "    for i in data.columns:\n",
    "        print(i,\":\")\n",
    "        X = data[i].values\n",
    "        result = adfuller(X)\n",
    "        print('ADF Statistic: %f' % result[0])\n",
    "        print('p-value: %f' % result[1])\n",
    "        print('Critical Values:')\n",
    "        for key, value in result[4].items():\n",
    "            print('\\t%s: %.3f' % (key, value))"
   ]
  },
  {
   "cell_type": "code",
   "execution_count": 17,
   "metadata": {},
   "outputs": [
    {
     "name": "stdout",
     "output_type": "stream",
     "text": [
      "Augmented Dickey-Fuller test:\n",
      "PC1 :\n",
      "ADF Statistic: -5.851463\n",
      "p-value: 0.000000\n",
      "Critical Values:\n",
      "\t1%: -3.443\n",
      "\t5%: -2.867\n",
      "\t10%: -2.570\n",
      "PC2 :\n",
      "ADF Statistic: -12.658412\n",
      "p-value: 0.000000\n",
      "Critical Values:\n",
      "\t1%: -3.443\n",
      "\t5%: -2.867\n",
      "\t10%: -2.570\n",
      "PC3 :\n",
      "ADF Statistic: -14.160536\n",
      "p-value: 0.000000\n",
      "Critical Values:\n",
      "\t1%: -3.443\n",
      "\t5%: -2.867\n",
      "\t10%: -2.570\n"
     ]
    }
   ],
   "source": [
    "ADF_test(PCA_data)"
   ]
  },
  {
   "cell_type": "markdown",
   "metadata": {},
   "source": [
    "## Step3: Similarity Matching in Time Series"
   ]
  },
  {
   "cell_type": "markdown",
   "metadata": {},
   "source": [
    "### Dynamic Time Warping analysis"
   ]
  },
  {
   "cell_type": "code",
   "execution_count": 18,
   "metadata": {},
   "outputs": [
    {
     "data": {
      "text/html": [
       "<div>\n",
       "<style scoped>\n",
       "    .dataframe tbody tr th:only-of-type {\n",
       "        vertical-align: middle;\n",
       "    }\n",
       "\n",
       "    .dataframe tbody tr th {\n",
       "        vertical-align: top;\n",
       "    }\n",
       "\n",
       "    .dataframe thead th {\n",
       "        text-align: right;\n",
       "    }\n",
       "</style>\n",
       "<table border=\"1\" class=\"dataframe\">\n",
       "  <thead>\n",
       "    <tr style=\"text-align: right;\">\n",
       "      <th></th>\n",
       "      <th>GS1</th>\n",
       "      <th>GS2</th>\n",
       "      <th>GS3</th>\n",
       "      <th>GS5</th>\n",
       "      <th>GS7</th>\n",
       "      <th>GS10</th>\n",
       "    </tr>\n",
       "  </thead>\n",
       "  <tbody>\n",
       "    <tr>\n",
       "      <th>1976-06-01</th>\n",
       "      <td>-0.711055</td>\n",
       "      <td>-0.499901</td>\n",
       "      <td>-0.477856</td>\n",
       "      <td>-0.316034</td>\n",
       "      <td>-0.119308</td>\n",
       "      <td>-0.061234</td>\n",
       "    </tr>\n",
       "    <tr>\n",
       "      <th>1976-07-01</th>\n",
       "      <td>-0.434216</td>\n",
       "      <td>-0.525182</td>\n",
       "      <td>-0.665994</td>\n",
       "      <td>-0.491525</td>\n",
       "      <td>-0.337209</td>\n",
       "      <td>-0.160770</td>\n",
       "    </tr>\n",
       "    <tr>\n",
       "      <th>1976-08-01</th>\n",
       "      <td>-0.341936</td>\n",
       "      <td>-0.499901</td>\n",
       "      <td>-0.504733</td>\n",
       "      <td>-0.491525</td>\n",
       "      <td>-0.492853</td>\n",
       "      <td>-0.558912</td>\n",
       "    </tr>\n",
       "    <tr>\n",
       "      <th>1976-09-01</th>\n",
       "      <td>-0.757195</td>\n",
       "      <td>-1.081360</td>\n",
       "      <td>-1.096025</td>\n",
       "      <td>-1.076494</td>\n",
       "      <td>-0.741883</td>\n",
       "      <td>-0.558912</td>\n",
       "    </tr>\n",
       "    <tr>\n",
       "      <th>1976-10-01</th>\n",
       "      <td>-0.457286</td>\n",
       "      <td>-0.398777</td>\n",
       "      <td>-0.370348</td>\n",
       "      <td>-0.637767</td>\n",
       "      <td>-0.897527</td>\n",
       "      <td>-0.359841</td>\n",
       "    </tr>\n",
       "  </tbody>\n",
       "</table>\n",
       "</div>"
      ],
      "text/plain": [
       "                 GS1       GS2       GS3       GS5       GS7      GS10\n",
       "1976-06-01 -0.711055 -0.499901 -0.477856 -0.316034 -0.119308 -0.061234\n",
       "1976-07-01 -0.434216 -0.525182 -0.665994 -0.491525 -0.337209 -0.160770\n",
       "1976-08-01 -0.341936 -0.499901 -0.504733 -0.491525 -0.492853 -0.558912\n",
       "1976-09-01 -0.757195 -1.081360 -1.096025 -1.076494 -0.741883 -0.558912\n",
       "1976-10-01 -0.457286 -0.398777 -0.370348 -0.637767 -0.897527 -0.359841"
      ]
     },
     "execution_count": 18,
     "metadata": {},
     "output_type": "execute_result"
    }
   ],
   "source": [
    "monthly_change.head()"
   ]
  },
  {
   "cell_type": "code",
   "execution_count": 29,
   "metadata": {},
   "outputs": [
    {
     "data": {
      "text/plain": [
       "(13, 3)"
      ]
     },
     "execution_count": 29,
     "metadata": {},
     "output_type": "execute_result"
    }
   ],
   "source": [
    "# Choosing the time series data in Sep 2020 to Sep 2021 as sample time series data\n",
    "# The taget is to find the a period of time when monthly-changing data is similar to the sample time series data\n",
    "sample_data.shape"
   ]
  },
  {
   "cell_type": "code",
   "execution_count": 31,
   "metadata": {},
   "outputs": [
    {
     "data": {
      "text/html": [
       "<div>\n",
       "<style scoped>\n",
       "    .dataframe tbody tr th:only-of-type {\n",
       "        vertical-align: middle;\n",
       "    }\n",
       "\n",
       "    .dataframe tbody tr th {\n",
       "        vertical-align: top;\n",
       "    }\n",
       "\n",
       "    .dataframe thead th {\n",
       "        text-align: right;\n",
       "    }\n",
       "</style>\n",
       "<table border=\"1\" class=\"dataframe\">\n",
       "  <thead>\n",
       "    <tr style=\"text-align: right;\">\n",
       "      <th></th>\n",
       "      <th>PC1</th>\n",
       "      <th>PC2</th>\n",
       "      <th>PC3</th>\n",
       "    </tr>\n",
       "  </thead>\n",
       "  <tbody>\n",
       "    <tr>\n",
       "      <th>1976-06-01</th>\n",
       "      <td>0.888255</td>\n",
       "      <td>0.551753</td>\n",
       "      <td>-0.026462</td>\n",
       "    </tr>\n",
       "    <tr>\n",
       "      <th>1976-07-01</th>\n",
       "      <td>1.072054</td>\n",
       "      <td>0.234299</td>\n",
       "      <td>-0.277551</td>\n",
       "    </tr>\n",
       "    <tr>\n",
       "      <th>1976-08-01</th>\n",
       "      <td>1.181941</td>\n",
       "      <td>-0.116526</td>\n",
       "      <td>-0.033573</td>\n",
       "    </tr>\n",
       "    <tr>\n",
       "      <th>1976-09-01</th>\n",
       "      <td>2.176907</td>\n",
       "      <td>0.213209</td>\n",
       "      <td>-0.411894</td>\n",
       "    </tr>\n",
       "    <tr>\n",
       "      <th>1976-10-01</th>\n",
       "      <td>1.276016</td>\n",
       "      <td>-0.181139</td>\n",
       "      <td>0.011477</td>\n",
       "    </tr>\n",
       "  </tbody>\n",
       "</table>\n",
       "</div>"
      ],
      "text/plain": [
       "                 PC1       PC2       PC3\n",
       "1976-06-01  0.888255  0.551753 -0.026462\n",
       "1976-07-01  1.072054  0.234299 -0.277551\n",
       "1976-08-01  1.181941 -0.116526 -0.033573\n",
       "1976-09-01  2.176907  0.213209 -0.411894\n",
       "1976-10-01  1.276016 -0.181139  0.011477"
      ]
     },
     "execution_count": 31,
     "metadata": {},
     "output_type": "execute_result"
    }
   ],
   "source": [
    "start=datetime.datetime(1976,6,1)\n",
    "end=datetime.datetime(2020,9,1)\n",
    "#DTW_data=monthly_change[start:end]\n",
    "DTW_data=PCA_data[start:end]\n",
    "DTW_data.head()"
   ]
  },
  {
   "cell_type": "markdown",
   "metadata": {},
   "source": [
    "##### Build rolling windows "
   ]
  },
  {
   "cell_type": "code",
   "execution_count": 21,
   "metadata": {},
   "outputs": [
    {
     "data": {
      "text/plain": [
       "520"
      ]
     },
     "execution_count": 21,
     "metadata": {},
     "output_type": "execute_result"
    }
   ],
   "source": [
    "\n",
    "Years=[]\n",
    "for i in range(len(DTW_data)-12):\n",
    "    Years.append(DTW_data[i:i+13])\n",
    "len(Years)"
   ]
  },
  {
   "cell_type": "markdown",
   "metadata": {},
   "source": [
    "##### Compute distance matrices"
   ]
  },
  {
   "cell_type": "code",
   "execution_count": 22,
   "metadata": {},
   "outputs": [],
   "source": [
    "# For each time period, compute the distance matrix of it and the sample data\n",
    "DistMatrixdict={}\n",
    "for i in Years:\n",
    "    key=i.index[0]\n",
    "    value=distance.cdist(i,sample_data,metric='euclidean')\n",
    "    DistMatrixdict[key]=value"
   ]
  },
  {
   "cell_type": "markdown",
   "metadata": {},
   "source": [
    "##### Dynamic Time Warping model"
   ]
  },
  {
   "cell_type": "code",
   "execution_count": 23,
   "metadata": {},
   "outputs": [],
   "source": [
    "def DTW(dist_mat):\n",
    "    N=dist_mat.shape[0]\n",
    "    M=dist_mat.shape[1]\n",
    "    \n",
    "    # Initialize the cost matrix\n",
    "    cost_mat=np.zeros((N+1,M+1))\n",
    "    for i in range(1,N+1):\n",
    "        cost_mat[i,0]=np.inf\n",
    "    for j in range(1,M+1):\n",
    "        cost_mat[0,j]=np.inf\n",
    "        \n",
    "    # Initialize the track matrix\n",
    "    trac_mat=np.zeros((N,M))\n",
    "    for i in range(0,N):\n",
    "        for j in range(0,M):\n",
    "            action=[cost_mat[i,j],cost_mat[i,j+1],cost_mat[i+1,j]]\n",
    "            act=np.argmin(action)\n",
    "            trac_mat[i,j]=act\n",
    "            cost_mat[i+1,j+1]=action[act]+dist_mat[i,j]\n",
    "    \n",
    "    # Traceback from end to the original point\n",
    "    i=N-1\n",
    "    j=M-1\n",
    "    path=[(i,j)]\n",
    "    while i>0 or j>0:\n",
    "        trac_type=trac_mat[i,j]\n",
    "        if trac_type==0:\n",
    "            i=i-1\n",
    "            j=j-1\n",
    "        elif trac_type==1:\n",
    "            i=i-1\n",
    "        elif trac_type==2:\n",
    "            j=j-1\n",
    "        path.append((i,j))\n",
    "        #print(path)\n",
    "    # Delete extra edges    \n",
    "    cost_mat=cost_mat[1:,1:]\n",
    "    return(path[::-1],cost_mat)"
   ]
  },
  {
   "cell_type": "markdown",
   "metadata": {},
   "source": [
    "##### Find the most similar time series data according to matching costs"
   ]
  },
  {
   "cell_type": "code",
   "execution_count": 24,
   "metadata": {},
   "outputs": [
    {
     "name": "stdout",
     "output_type": "stream",
     "text": [
      "The minimum mathcing cost:  7.091748899941251\n",
      "The most similar period: 2012-07-01 to 2013-07-01\n"
     ]
    }
   ],
   "source": [
    "# The time period most similar with the sample data will have the minimum matching cost\n",
    "Matching_cost={}\n",
    "cost_matrix={}\n",
    "for k,j in DistMatrixdict.items():\n",
    "    path, cost_mat = DTW(j)\n",
    "    N=Years[1].shape[0]\n",
    "    M=sample_data.shape[0]\n",
    "    value=cost_mat[N - 1, M - 1]\n",
    "    Matching_cost[k]=value\n",
    "    cost_matrix[k]=cost_mat\n",
    "    min_begin_year=min(Matching_cost,key=Matching_cost.get)\n",
    "print(\"The minimum mathcing cost: \",Matching_cost[min_begin_year])\n",
    "print(\"The most similar period:\",min_begin_year.date(),\"to\",min_begin_year.date()+pd.Timedelta(365,unit='days'))"
   ]
  },
  {
   "cell_type": "markdown",
   "metadata": {},
   "source": [
    "##### Warping path identification"
   ]
  },
  {
   "cell_type": "code",
   "execution_count": 27,
   "metadata": {},
   "outputs": [
    {
     "data": {
      "image/png": "[encoded data removed]",
      "text/plain": [
       "<Figure size 576x504 with 2 Axes>"
      ]
     },
     "metadata": {
      "needs_background": "light"
     },
     "output_type": "display_data"
    }
   ],
   "source": [
    "# Display the warping path of DTW \n",
    "dist_mat=DistMatrixdict[min_begin_year]\n",
    "cost_mat=cost_matrix[min_begin_year]\n",
    "plt.figure(figsize=(8, 7))\n",
    "plt.subplot(211)\n",
    "plt.title(\"Distance matrix\")\n",
    "plt.imshow(dist_mat, cmap=plt.cm.binary, interpolation=\"nearest\", origin=\"bottom\")\n",
    "plt.subplot(212)\n",
    "plt.title(\"Cost matrix\")\n",
    "plt.imshow(cost_mat, cmap=plt.cm.binary, interpolation=\"nearest\", origin=\"bottom\")\n",
    "x_path, y_path = zip(*path)\n",
    "plt.plot(y_path, x_path);"
   ]
  },
  {
   "cell_type": "markdown",
   "metadata": {},
   "source": [
    "##### Compare similar time series and sample series"
   ]
  },
  {
   "cell_type": "code",
   "execution_count": 26,
   "metadata": {},
   "outputs": [
    {
     "data": {
      "image/png": "[encoded data removed]",
      "text/plain": [
       "<Figure size 576x504 with 2 Axes>"
      ]
     },
     "metadata": {
      "needs_background": "light"
     },
     "output_type": "display_data"
    }
   ],
   "source": [
    "similar_data=PCA_data.loc['2012-07-01':'2013-07-01']\n",
    "plt.figure(figsize=(8, 7))\n",
    "plt.subplot(211)\n",
    "plt.title(\"Similar Data\")\n",
    "plt.plot(similar_data)\n",
    "plt.subplot(212)\n",
    "plt.title(\"Sample Data\")\n",
    "plt.plot(sample_data)\n",
    "plt.show()"
   ]
  },
  {
   "cell_type": "markdown",
   "metadata": {},
   "source": [
    "##### As shown in the graph, the two time series data obtain similar patterns roughly"
   ]
  }
 ],
 "metadata": {
  "kernelspec": {
   "display_name": "Python 3",
   "language": "python",
   "name": "python3"
  },
  "language_info": {
   "codemirror_mode": {
    "name": "ipython",
    "version": 3
   },
   "file_extension": ".py",
   "mimetype": "text/x-python",
   "name": "python",
   "nbconvert_exporter": "python",
   "pygments_lexer": "ipython3",
   "version": "3.7.6"
  }
 },
 "nbformat": 4,
 "nbformat_minor": 4
}
